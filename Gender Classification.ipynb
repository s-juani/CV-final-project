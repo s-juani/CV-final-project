{
 "cells": [
  {
   "cell_type": "markdown",
   "id": "af9c9aa3-76d6-470c-9982-f8d90e4a8f31",
   "metadata": {},
   "source": [
    "# <n><u>PARTE 3:</u></n> Deteccion de Genero\n",
    "## Florencia Migues & Santiago Juani"
   ]
  },
  {
   "cell_type": "markdown",
   "id": "2bf21c8b-5c03-4c8a-873a-d740339ac7cc",
   "metadata": {},
   "source": [
    "## Imports"
   ]
  },
  {
   "cell_type": "code",
   "execution_count": 1,
   "id": "497f6273-ef9b-417e-b61b-9950869cbd6f",
   "metadata": {},
   "outputs": [],
   "source": [
    "%load_ext tensorboard"
   ]
  },
  {
   "cell_type": "code",
   "execution_count": 2,
   "id": "e85e2bc8-3a29-40a4-b6d5-2cc1f07f3064",
   "metadata": {},
   "outputs": [],
   "source": [
    "import cv2\n",
    "import os\n",
    "import sys\n",
    "from glob import glob\n",
    "from tqdm import tqdm\n",
    "import pandas as pd\n",
    "import matplotlib.pyplot as plt\n",
    "import shutil\n",
    "import numpy as np\n",
    "from sklearn.model_selection import train_test_split"
   ]
  },
  {
   "cell_type": "code",
   "execution_count": 3,
   "id": "b6b3dbce-b485-4941-8032-c3734408b1de",
   "metadata": {},
   "outputs": [],
   "source": [
    "import tensorflow as tf\n",
    "from tensorflow import keras\n",
    "\n",
    "from tensorflow.keras.datasets import cifar10\n",
    "from tensorflow.keras.preprocessing.image import ImageDataGenerator\n",
    "from tensorflow.keras.models import Sequential\n",
    "from tensorflow.keras.layers import Dense, Dropout, Activation, Flatten, Conv2D, MaxPooling2D, BatchNormalization\n",
    "from tensorflow.keras.callbacks import ModelCheckpoint, TensorBoard\n",
    "from tensorflow.keras.optimizers import SGD"
   ]
  },
  {
   "cell_type": "markdown",
   "id": "2b11b319-08a8-42d1-a62e-9f3b560d0af8",
   "metadata": {},
   "source": [
    "## Data Loader"
   ]
  },
  {
   "cell_type": "code",
   "execution_count": 7,
   "id": "4a138a35-451d-4d13-98f3-1d761175aba5",
   "metadata": {},
   "outputs": [],
   "source": [
    "tl = pd.read_pickle(os.path.join(training_labels_dir, 'training_labels.pkl'))\n",
    "vbbs = pd.read_pickle(os.path.join(validation_data_dir, 'validation_bbox.pickle'))\n",
    "vl = pd.read_pickle(os.path.join(validation_labels_dir, 'validation_labels.pkl'))\n",
    "\n",
    "tl.to_csv('training_labels.csv')\n",
    "vbbs.to_csv('validation_bbox.csv')\n",
    "vl.to_csv('validation_labels.csv')"
   ]
  },
  {
   "cell_type": "code",
   "execution_count": 4,
   "id": "75f324d9-b359-4f38-85d6-132dd2182ad0",
   "metadata": {},
   "outputs": [],
   "source": [
    "def prep_image(img):\n",
    "    if len(img.shape)==3 and img.shape[2]==3:\n",
    "        img = cv2.cvtColor(img, cv2.COLOR_RGB2GRAY)\n",
    "    return img/255.0"
   ]
  },
  {
   "cell_type": "code",
   "execution_count": 5,
   "id": "bd2f922c-c7aa-4487-90a8-6f49924abfb0",
   "metadata": {
    "tags": []
   },
   "outputs": [],
   "source": [
    "def load_training_data(training_data_path, training_labels_path):\n",
    "    \n",
    "    training_data = []\n",
    "    training_labels = []\n",
    "    \n",
    "    images = sorted(glob(training_data_path + '/*'))\n",
    "    labels = pd.read_pickle(os.path.join(training_labels_path, 'training_labels.pkl'))\n",
    "    \n",
    "    print(f'##Loading {len(images)} face images:', flush=True)\n",
    "    for img_file in tqdm(images, total=len(images)):\n",
    "        image_name = os.path.basename(img_file)\n",
    "        \n",
    "        image = cv2.imread(img_file)[...,::-1]\n",
    "        image = cv2.resize(image, [128, 128], cv2.INTER_AREA)\n",
    "        training_data.append(prep_image(image))\n",
    "        \n",
    "        label = labels.loc[labels[\"image_name\"] == image_name]\n",
    "        #training_labels.append(label['Male'].values[0])\n",
    "        \n",
    "        if label['Male'].values[0] == 'male':\n",
    "            training_labels.append([1,0])\n",
    "        else:\n",
    "            training_labels.append([0,1])\n",
    "        \n",
    "    training_data = np.asarray(training_data)\n",
    "    training_labels = np.asarray(training_labels)\n",
    "    return training_data, training_labels\n",
    "\n",
    "\n",
    "def load_validation_data(validation_data_path, validation_labels_path):\n",
    "    \n",
    "    val_imgs = []\n",
    "    val_labels = []\n",
    "    \n",
    "    images = sorted(glob(validation_data_path + '/*.jpg')) \n",
    "    \n",
    "    bbox_pkl = pd.read_pickle(os.path.join(validation_data_path,'validation_bbox.pickle'))\n",
    "    labels = pd.read_pickle(os.path.join(validation_labels_path, 'validation_labels.pkl'))\n",
    "    \n",
    "    print(f'## Loading {len(images)} face images:', flush=True)\n",
    "    for img_file in tqdm(images, total=len(images)):\n",
    "        image_name = os.path.basename(img_file)\n",
    "        \n",
    "        big_image = prep_image(cv2.imread(img_file)[...,::-1])\n",
    "        \n",
    "        bbox = bbox_pkl.loc[bbox_pkl[\"image_id\"]==image_name]\n",
    "        cut_image = big_image[bbox['y_top'].values[0] : bbox['y_top'].values[0]+bbox['height'].values[0],\n",
    "                              bbox['x_left'].values[0] : bbox['x_left'].values[0]+bbox['width'].values[0]]\n",
    "        try:\n",
    "            cut_image = cv2.resize(cut_image, [128, 128], cv2.INTER_AREA)\n",
    "            val_imgs.append(cut_image)\n",
    "            label = labels.loc[labels[\"image_name\"] == image_name]\n",
    "            #val_labels.append(label['Male'].values[0])\n",
    "\n",
    "            if label['Male'].values[0] == 'male':\n",
    "                val_labels.append([1,0])\n",
    "            else:\n",
    "                val_labels.append([0,1])\n",
    "            \n",
    "        except:\n",
    "            pass\n",
    "\n",
    "    val_imgs = np.asarray(val_imgs)\n",
    "    val_labels = np.asarray(val_labels)\n",
    "    return val_imgs, val_labels"
   ]
  },
  {
   "cell_type": "markdown",
   "id": "31592935-ff33-4b11-9f8e-2d2b37cd7cc3",
   "metadata": {},
   "source": [
    "## Ubicacion de los datos"
   ]
  },
  {
   "cell_type": "code",
   "execution_count": 4,
   "id": "8ce78eb6-dca9-4420-b567-395a0e2d5c57",
   "metadata": {},
   "outputs": [],
   "source": [
    "data_dir = './'\n",
    "training_data_dir = os.path.join(data_dir, 'face_detection/cropped_faces')\n",
    "training_labels_dir = os.path.join(data_dir, 'gender_labels')\n",
    "\n",
    "validation_data_dir = os.path.join(data_dir, 'face_detection/validation')\n",
    "validation_labels_dir = os.path.join(data_dir, 'gender_labels')"
   ]
  },
  {
   "cell_type": "markdown",
   "id": "3b4f643d-63e2-4f1f-9fe4-76873374992d",
   "metadata": {},
   "source": [
    "## Load Data"
   ]
  },
  {
   "cell_type": "code",
   "execution_count": 7,
   "id": "7c8e8944-86cf-442a-946b-19e47fde1de3",
   "metadata": {
    "tags": []
   },
   "outputs": [
    {
     "name": "stdout",
     "output_type": "stream",
     "text": [
      "##Loading 9914 face images:\n"
     ]
    },
    {
     "name": "stderr",
     "output_type": "stream",
     "text": [
      "100%|██████████| 9914/9914 [00:21<00:00, 461.19it/s]\n"
     ]
    },
    {
     "name": "stdout",
     "output_type": "stream",
     "text": [
      "## Loading 175 face images:\n"
     ]
    },
    {
     "name": "stderr",
     "output_type": "stream",
     "text": [
      "100%|██████████| 175/175 [00:00<00:00, 267.75it/s]\n"
     ]
    }
   ],
   "source": [
    "training_data, training_labels = load_training_data(training_data_dir,\n",
    "                                                    training_labels_dir)\n",
    "\n",
    "validation_data, validation_labels = load_validation_data(validation_data_dir,\n",
    "                                                          validation_labels_dir)"
   ]
  },
  {
   "cell_type": "markdown",
   "id": "a9bbcd7a-f779-4699-8215-74cb9d055f71",
   "metadata": {},
   "source": [
    "## Modelo: Keras CNN"
   ]
  },
  {
   "cell_type": "markdown",
   "id": "bb96b362-7975-4d1e-a28f-5fc62e6ecc7b",
   "metadata": {},
   "source": [
    "### Definition"
   ]
  },
  {
   "cell_type": "code",
   "execution_count": 41,
   "id": "1ac10174-3f20-478e-ac3e-e7b144cd3305",
   "metadata": {},
   "outputs": [],
   "source": [
    "model = Sequential()\n",
    "\n",
    "model.add(Conv2D(32, (3,3), input_shape=(128, 128, 1)))\n",
    "model.add(BatchNormalization())\n",
    "model.add(Activation('relu'))\n",
    "model.add(MaxPooling2D(pool_size=(2,2)))\n",
    "\n",
    "model.add(Conv2D(32, (3,3)))\n",
    "model.add(BatchNormalization())\n",
    "model.add(Activation('relu'))\n",
    "model.add(MaxPooling2D(pool_size=(2,2)))\n",
    "\n",
    "model.add(Conv2D(32, (3,3)))\n",
    "model.add(BatchNormalization())\n",
    "model.add(Activation('relu'))\n",
    "model.add(MaxPooling2D(pool_size=(2,2)))\n",
    "\n",
    "model.add(Flatten())\n",
    "model.add(Dropout(0.5))\n",
    "model.add(Dense(64, activation='relu'))\n",
    "\n",
    "model.add(Dropout(0.5))\n",
    "model.add(Dense(2))\n",
    "model.add(Activation('softmax'))\n",
    "\n",
    "opt = SGD(learning_rate=0.01)\n",
    "model.compile(loss='categorical_crossentropy',\n",
    "             optimizer=opt,\n",
    "             metrics=['accuracy'])"
   ]
  },
  {
   "cell_type": "markdown",
   "id": "641e3f84-8201-4db1-b7c5-4b159ab6bf35",
   "metadata": {},
   "source": [
    "### Training"
   ]
  },
  {
   "cell_type": "code",
   "execution_count": 31,
   "id": "338e9391-594e-4fd9-969c-e6ce43851bf9",
   "metadata": {
    "collapsed": true,
    "jupyter": {
     "outputs_hidden": true
    },
    "tags": []
   },
   "outputs": [
    {
     "data": {
      "text/plain": [
       "Reusing TensorBoard on port 6006 (pid 268), started 2 days, 22:07:56 ago. (Use '!kill 268' to kill it.)"
      ]
     },
     "metadata": {},
     "output_type": "display_data"
    },
    {
     "data": {
      "text/html": [
       "\n",
       "      <iframe id=\"tensorboard-frame-783cfcdcd18d4911\" width=\"100%\" height=\"800\" frameborder=\"0\">\n",
       "      </iframe>\n",
       "      <script>\n",
       "        (function() {\n",
       "          const frame = document.getElementById(\"tensorboard-frame-783cfcdcd18d4911\");\n",
       "          const url = new URL(\"/\", window.location);\n",
       "          const port = 6006;\n",
       "          if (port) {\n",
       "            url.port = port;\n",
       "          }\n",
       "          frame.src = url;\n",
       "        })();\n",
       "      </script>\n",
       "    "
      ],
      "text/plain": [
       "<IPython.core.display.HTML object>"
      ]
     },
     "metadata": {},
     "output_type": "display_data"
    }
   ],
   "source": [
    "%tensorboard --logdir ./logs/ --host localhost"
   ]
  },
  {
   "cell_type": "code",
   "execution_count": 10,
   "id": "9dc18741-cb0b-4589-8a52-0bda634ec9b4",
   "metadata": {},
   "outputs": [],
   "source": [
    "if not os.path.exists('./checkpoints'):\n",
    "    os.makedirs('./checkpoints')\n",
    "check_point_model = os.path.join('./checkpoints','checkpoint_gender_model.hdf5')"
   ]
  },
  {
   "cell_type": "code",
   "execution_count": 12,
   "id": "f6966b00-0508-45c0-a042-584e085a6a78",
   "metadata": {
    "collapsed": true,
    "jupyter": {
     "outputs_hidden": true
    },
    "tags": []
   },
   "outputs": [
    {
     "name": "stdout",
     "output_type": "stream",
     "text": [
      "Epoch 1/20\n",
      "310/310 [==============================] - ETA: 0s - loss: 0.2671 - accuracy: 0.8855\n",
      "Epoch 1: val_loss improved from inf to 0.72526, saving model to ./checkpoints\\checkpoint_gender_model.hdf5\n",
      "310/310 [==============================] - 83s 265ms/step - loss: 0.2671 - accuracy: 0.8855 - val_loss: 0.7253 - val_accuracy: 0.6264\n",
      "Epoch 2/20\n",
      "310/310 [==============================] - ETA: 0s - loss: 0.2547 - accuracy: 0.8903\n",
      "Epoch 2: val_loss improved from 0.72526 to 0.44104, saving model to ./checkpoints\\checkpoint_gender_model.hdf5\n",
      "310/310 [==============================] - 82s 264ms/step - loss: 0.2547 - accuracy: 0.8903 - val_loss: 0.4410 - val_accuracy: 0.7644\n",
      "Epoch 3/20\n",
      "310/310 [==============================] - ETA: 0s - loss: 0.2392 - accuracy: 0.9022\n",
      "Epoch 3: val_loss improved from 0.44104 to 0.36890, saving model to ./checkpoints\\checkpoint_gender_model.hdf5\n",
      "310/310 [==============================] - 83s 269ms/step - loss: 0.2392 - accuracy: 0.9022 - val_loss: 0.3689 - val_accuracy: 0.8218\n",
      "Epoch 4/20\n",
      "310/310 [==============================] - ETA: 0s - loss: 0.2328 - accuracy: 0.9010\n",
      "Epoch 4: val_loss did not improve from 0.36890\n",
      "310/310 [==============================] - 80s 258ms/step - loss: 0.2328 - accuracy: 0.9010 - val_loss: 0.4125 - val_accuracy: 0.7874\n",
      "Epoch 5/20\n",
      "310/310 [==============================] - ETA: 0s - loss: 0.2248 - accuracy: 0.9056\n",
      "Epoch 5: val_loss improved from 0.36890 to 0.33061, saving model to ./checkpoints\\checkpoint_gender_model.hdf5\n",
      "310/310 [==============================] - 80s 259ms/step - loss: 0.2248 - accuracy: 0.9056 - val_loss: 0.3306 - val_accuracy: 0.8448\n",
      "Epoch 6/20\n",
      "310/310 [==============================] - ETA: 0s - loss: 0.2092 - accuracy: 0.9107\n",
      "Epoch 6: val_loss improved from 0.33061 to 0.29133, saving model to ./checkpoints\\checkpoint_gender_model.hdf5\n",
      "310/310 [==============================] - 80s 258ms/step - loss: 0.2092 - accuracy: 0.9107 - val_loss: 0.2913 - val_accuracy: 0.8678\n",
      "Epoch 7/20\n",
      "310/310 [==============================] - ETA: 0s - loss: 0.2089 - accuracy: 0.9089\n",
      "Epoch 7: val_loss did not improve from 0.29133\n",
      "310/310 [==============================] - 81s 261ms/step - loss: 0.2089 - accuracy: 0.9089 - val_loss: 0.3557 - val_accuracy: 0.8276\n",
      "Epoch 8/20\n",
      "310/310 [==============================] - ETA: 0s - loss: 0.2022 - accuracy: 0.9156\n",
      "Epoch 8: val_loss did not improve from 0.29133\n",
      "310/310 [==============================] - 86s 277ms/step - loss: 0.2022 - accuracy: 0.9156 - val_loss: 0.3005 - val_accuracy: 0.8793\n",
      "Epoch 9/20\n",
      "310/310 [==============================] - ETA: 0s - loss: 0.1937 - accuracy: 0.9191\n",
      "Epoch 9: val_loss did not improve from 0.29133\n",
      "310/310 [==============================] - 84s 272ms/step - loss: 0.1937 - accuracy: 0.9191 - val_loss: 1.5156 - val_accuracy: 0.5460\n",
      "Epoch 10/20\n",
      "310/310 [==============================] - ETA: 0s - loss: 0.1917 - accuracy: 0.9221\n",
      "Epoch 10: val_loss did not improve from 0.29133\n",
      "310/310 [==============================] - 85s 274ms/step - loss: 0.1917 - accuracy: 0.9221 - val_loss: 0.7266 - val_accuracy: 0.6724\n",
      "Epoch 11/20\n",
      "310/310 [==============================] - ETA: 0s - loss: 0.1886 - accuracy: 0.9190\n",
      "Epoch 11: val_loss improved from 0.29133 to 0.25483, saving model to ./checkpoints\\checkpoint_gender_model.hdf5\n",
      "310/310 [==============================] - 81s 262ms/step - loss: 0.1886 - accuracy: 0.9190 - val_loss: 0.2548 - val_accuracy: 0.8793\n",
      "Epoch 12/20\n",
      "310/310 [==============================] - ETA: 0s - loss: 0.1873 - accuracy: 0.9225\n",
      "Epoch 12: val_loss did not improve from 0.25483\n",
      "310/310 [==============================] - 81s 262ms/step - loss: 0.1873 - accuracy: 0.9225 - val_loss: 0.6101 - val_accuracy: 0.7586\n",
      "Epoch 13/20\n",
      "310/310 [==============================] - ETA: 0s - loss: 0.1769 - accuracy: 0.9278\n",
      "Epoch 13: val_loss did not improve from 0.25483\n",
      "310/310 [==============================] - 80s 259ms/step - loss: 0.1769 - accuracy: 0.9278 - val_loss: 0.3597 - val_accuracy: 0.8276\n",
      "Epoch 14/20\n",
      "310/310 [==============================] - ETA: 0s - loss: 0.1732 - accuracy: 0.9291\n",
      "Epoch 14: val_loss did not improve from 0.25483\n",
      "310/310 [==============================] - 80s 258ms/step - loss: 0.1732 - accuracy: 0.9291 - val_loss: 0.3851 - val_accuracy: 0.8218\n",
      "Epoch 15/20\n",
      "310/310 [==============================] - ETA: 0s - loss: 0.1715 - accuracy: 0.9312\n",
      "Epoch 15: val_loss did not improve from 0.25483\n",
      "310/310 [==============================] - 79s 254ms/step - loss: 0.1715 - accuracy: 0.9312 - val_loss: 0.2706 - val_accuracy: 0.8966\n",
      "Epoch 16/20\n",
      "310/310 [==============================] - ETA: 0s - loss: 0.1614 - accuracy: 0.9338\n",
      "Epoch 16: val_loss did not improve from 0.25483\n",
      "310/310 [==============================] - 79s 255ms/step - loss: 0.1614 - accuracy: 0.9338 - val_loss: 0.2855 - val_accuracy: 0.8736\n",
      "Epoch 17/20\n",
      "310/310 [==============================] - ETA: 0s - loss: 0.1586 - accuracy: 0.9369\n",
      "Epoch 17: val_loss did not improve from 0.25483\n",
      "310/310 [==============================] - 78s 253ms/step - loss: 0.1586 - accuracy: 0.9369 - val_loss: 0.3080 - val_accuracy: 0.8448\n",
      "Epoch 18/20\n",
      "310/310 [==============================] - ETA: 0s - loss: 0.1588 - accuracy: 0.9375\n",
      "Epoch 18: val_loss did not improve from 0.25483\n",
      "310/310 [==============================] - 78s 252ms/step - loss: 0.1588 - accuracy: 0.9375 - val_loss: 0.2632 - val_accuracy: 0.8793\n",
      "Epoch 19/20\n",
      "310/310 [==============================] - ETA: 0s - loss: 0.1588 - accuracy: 0.9347\n",
      "Epoch 19: val_loss did not improve from 0.25483\n",
      "310/310 [==============================] - 78s 251ms/step - loss: 0.1588 - accuracy: 0.9347 - val_loss: 0.3111 - val_accuracy: 0.8621\n",
      "Epoch 20/20\n",
      "249/310 [=======================>......] - ETA: 15s - loss: 0.1525 - accuracy: 0.9399"
     ]
    },
    {
     "ename": "KeyboardInterrupt",
     "evalue": "",
     "output_type": "error",
     "traceback": [
      "\u001b[1;31m---------------------------------------------------------------------------\u001b[0m",
      "\u001b[1;31mKeyboardInterrupt\u001b[0m                         Traceback (most recent call last)",
      "\u001b[1;32m<ipython-input-12-823862690476>\u001b[0m in \u001b[0;36m<module>\u001b[1;34m\u001b[0m\n\u001b[0;32m      7\u001b[0m                             mode='min')\n\u001b[0;32m      8\u001b[0m \u001b[1;33m\u001b[0m\u001b[0m\n\u001b[1;32m----> 9\u001b[1;33m history = model.fit(training_data, training_labels,\n\u001b[0m\u001b[0;32m     10\u001b[0m                     \u001b[0mepochs\u001b[0m\u001b[1;33m=\u001b[0m\u001b[1;36m20\u001b[0m\u001b[1;33m,\u001b[0m\u001b[1;33m\u001b[0m\u001b[1;33m\u001b[0m\u001b[0m\n\u001b[0;32m     11\u001b[0m                     \u001b[0mbatch_size\u001b[0m\u001b[1;33m=\u001b[0m\u001b[1;36m32\u001b[0m\u001b[1;33m,\u001b[0m\u001b[1;33m\u001b[0m\u001b[1;33m\u001b[0m\u001b[0m\n",
      "\u001b[1;32m~\\anaconda3\\lib\\site-packages\\keras\\utils\\traceback_utils.py\u001b[0m in \u001b[0;36merror_handler\u001b[1;34m(*args, **kwargs)\u001b[0m\n\u001b[0;32m     62\u001b[0m     \u001b[0mfiltered_tb\u001b[0m \u001b[1;33m=\u001b[0m \u001b[1;32mNone\u001b[0m\u001b[1;33m\u001b[0m\u001b[1;33m\u001b[0m\u001b[0m\n\u001b[0;32m     63\u001b[0m     \u001b[1;32mtry\u001b[0m\u001b[1;33m:\u001b[0m\u001b[1;33m\u001b[0m\u001b[1;33m\u001b[0m\u001b[0m\n\u001b[1;32m---> 64\u001b[1;33m       \u001b[1;32mreturn\u001b[0m \u001b[0mfn\u001b[0m\u001b[1;33m(\u001b[0m\u001b[1;33m*\u001b[0m\u001b[0margs\u001b[0m\u001b[1;33m,\u001b[0m \u001b[1;33m**\u001b[0m\u001b[0mkwargs\u001b[0m\u001b[1;33m)\u001b[0m\u001b[1;33m\u001b[0m\u001b[1;33m\u001b[0m\u001b[0m\n\u001b[0m\u001b[0;32m     65\u001b[0m     \u001b[1;32mexcept\u001b[0m \u001b[0mException\u001b[0m \u001b[1;32mas\u001b[0m \u001b[0me\u001b[0m\u001b[1;33m:\u001b[0m  \u001b[1;31m# pylint: disable=broad-except\u001b[0m\u001b[1;33m\u001b[0m\u001b[1;33m\u001b[0m\u001b[0m\n\u001b[0;32m     66\u001b[0m       \u001b[0mfiltered_tb\u001b[0m \u001b[1;33m=\u001b[0m \u001b[0m_process_traceback_frames\u001b[0m\u001b[1;33m(\u001b[0m\u001b[0me\u001b[0m\u001b[1;33m.\u001b[0m\u001b[0m__traceback__\u001b[0m\u001b[1;33m)\u001b[0m\u001b[1;33m\u001b[0m\u001b[1;33m\u001b[0m\u001b[0m\n",
      "\u001b[1;32m~\\anaconda3\\lib\\site-packages\\keras\\engine\\training.py\u001b[0m in \u001b[0;36mfit\u001b[1;34m(self, x, y, batch_size, epochs, verbose, callbacks, validation_split, validation_data, shuffle, class_weight, sample_weight, initial_epoch, steps_per_epoch, validation_steps, validation_batch_size, validation_freq, max_queue_size, workers, use_multiprocessing)\u001b[0m\n\u001b[0;32m   1407\u001b[0m                 _r=1):\n\u001b[0;32m   1408\u001b[0m               \u001b[0mcallbacks\u001b[0m\u001b[1;33m.\u001b[0m\u001b[0mon_train_batch_begin\u001b[0m\u001b[1;33m(\u001b[0m\u001b[0mstep\u001b[0m\u001b[1;33m)\u001b[0m\u001b[1;33m\u001b[0m\u001b[1;33m\u001b[0m\u001b[0m\n\u001b[1;32m-> 1409\u001b[1;33m               \u001b[0mtmp_logs\u001b[0m \u001b[1;33m=\u001b[0m \u001b[0mself\u001b[0m\u001b[1;33m.\u001b[0m\u001b[0mtrain_function\u001b[0m\u001b[1;33m(\u001b[0m\u001b[0miterator\u001b[0m\u001b[1;33m)\u001b[0m\u001b[1;33m\u001b[0m\u001b[1;33m\u001b[0m\u001b[0m\n\u001b[0m\u001b[0;32m   1410\u001b[0m               \u001b[1;32mif\u001b[0m \u001b[0mdata_handler\u001b[0m\u001b[1;33m.\u001b[0m\u001b[0mshould_sync\u001b[0m\u001b[1;33m:\u001b[0m\u001b[1;33m\u001b[0m\u001b[1;33m\u001b[0m\u001b[0m\n\u001b[0;32m   1411\u001b[0m                 \u001b[0mcontext\u001b[0m\u001b[1;33m.\u001b[0m\u001b[0masync_wait\u001b[0m\u001b[1;33m(\u001b[0m\u001b[1;33m)\u001b[0m\u001b[1;33m\u001b[0m\u001b[1;33m\u001b[0m\u001b[0m\n",
      "\u001b[1;32m~\\anaconda3\\lib\\site-packages\\tensorflow\\python\\util\\traceback_utils.py\u001b[0m in \u001b[0;36merror_handler\u001b[1;34m(*args, **kwargs)\u001b[0m\n\u001b[0;32m    148\u001b[0m     \u001b[0mfiltered_tb\u001b[0m \u001b[1;33m=\u001b[0m \u001b[1;32mNone\u001b[0m\u001b[1;33m\u001b[0m\u001b[1;33m\u001b[0m\u001b[0m\n\u001b[0;32m    149\u001b[0m     \u001b[1;32mtry\u001b[0m\u001b[1;33m:\u001b[0m\u001b[1;33m\u001b[0m\u001b[1;33m\u001b[0m\u001b[0m\n\u001b[1;32m--> 150\u001b[1;33m       \u001b[1;32mreturn\u001b[0m \u001b[0mfn\u001b[0m\u001b[1;33m(\u001b[0m\u001b[1;33m*\u001b[0m\u001b[0margs\u001b[0m\u001b[1;33m,\u001b[0m \u001b[1;33m**\u001b[0m\u001b[0mkwargs\u001b[0m\u001b[1;33m)\u001b[0m\u001b[1;33m\u001b[0m\u001b[1;33m\u001b[0m\u001b[0m\n\u001b[0m\u001b[0;32m    151\u001b[0m     \u001b[1;32mexcept\u001b[0m \u001b[0mException\u001b[0m \u001b[1;32mas\u001b[0m \u001b[0me\u001b[0m\u001b[1;33m:\u001b[0m\u001b[1;33m\u001b[0m\u001b[1;33m\u001b[0m\u001b[0m\n\u001b[0;32m    152\u001b[0m       \u001b[0mfiltered_tb\u001b[0m \u001b[1;33m=\u001b[0m \u001b[0m_process_traceback_frames\u001b[0m\u001b[1;33m(\u001b[0m\u001b[0me\u001b[0m\u001b[1;33m.\u001b[0m\u001b[0m__traceback__\u001b[0m\u001b[1;33m)\u001b[0m\u001b[1;33m\u001b[0m\u001b[1;33m\u001b[0m\u001b[0m\n",
      "\u001b[1;32m~\\anaconda3\\lib\\site-packages\\tensorflow\\python\\eager\\def_function.py\u001b[0m in \u001b[0;36m__call__\u001b[1;34m(self, *args, **kwds)\u001b[0m\n\u001b[0;32m    913\u001b[0m \u001b[1;33m\u001b[0m\u001b[0m\n\u001b[0;32m    914\u001b[0m       \u001b[1;32mwith\u001b[0m \u001b[0mOptionalXlaContext\u001b[0m\u001b[1;33m(\u001b[0m\u001b[0mself\u001b[0m\u001b[1;33m.\u001b[0m\u001b[0m_jit_compile\u001b[0m\u001b[1;33m)\u001b[0m\u001b[1;33m:\u001b[0m\u001b[1;33m\u001b[0m\u001b[1;33m\u001b[0m\u001b[0m\n\u001b[1;32m--> 915\u001b[1;33m         \u001b[0mresult\u001b[0m \u001b[1;33m=\u001b[0m \u001b[0mself\u001b[0m\u001b[1;33m.\u001b[0m\u001b[0m_call\u001b[0m\u001b[1;33m(\u001b[0m\u001b[1;33m*\u001b[0m\u001b[0margs\u001b[0m\u001b[1;33m,\u001b[0m \u001b[1;33m**\u001b[0m\u001b[0mkwds\u001b[0m\u001b[1;33m)\u001b[0m\u001b[1;33m\u001b[0m\u001b[1;33m\u001b[0m\u001b[0m\n\u001b[0m\u001b[0;32m    916\u001b[0m \u001b[1;33m\u001b[0m\u001b[0m\n\u001b[0;32m    917\u001b[0m       \u001b[0mnew_tracing_count\u001b[0m \u001b[1;33m=\u001b[0m \u001b[0mself\u001b[0m\u001b[1;33m.\u001b[0m\u001b[0mexperimental_get_tracing_count\u001b[0m\u001b[1;33m(\u001b[0m\u001b[1;33m)\u001b[0m\u001b[1;33m\u001b[0m\u001b[1;33m\u001b[0m\u001b[0m\n",
      "\u001b[1;32m~\\anaconda3\\lib\\site-packages\\tensorflow\\python\\eager\\def_function.py\u001b[0m in \u001b[0;36m_call\u001b[1;34m(self, *args, **kwds)\u001b[0m\n\u001b[0;32m    945\u001b[0m       \u001b[1;31m# In this case we have created variables on the first call, so we run the\u001b[0m\u001b[1;33m\u001b[0m\u001b[1;33m\u001b[0m\u001b[1;33m\u001b[0m\u001b[0m\n\u001b[0;32m    946\u001b[0m       \u001b[1;31m# defunned version which is guaranteed to never create variables.\u001b[0m\u001b[1;33m\u001b[0m\u001b[1;33m\u001b[0m\u001b[1;33m\u001b[0m\u001b[0m\n\u001b[1;32m--> 947\u001b[1;33m       \u001b[1;32mreturn\u001b[0m \u001b[0mself\u001b[0m\u001b[1;33m.\u001b[0m\u001b[0m_stateless_fn\u001b[0m\u001b[1;33m(\u001b[0m\u001b[1;33m*\u001b[0m\u001b[0margs\u001b[0m\u001b[1;33m,\u001b[0m \u001b[1;33m**\u001b[0m\u001b[0mkwds\u001b[0m\u001b[1;33m)\u001b[0m  \u001b[1;31m# pylint: disable=not-callable\u001b[0m\u001b[1;33m\u001b[0m\u001b[1;33m\u001b[0m\u001b[0m\n\u001b[0m\u001b[0;32m    948\u001b[0m     \u001b[1;32melif\u001b[0m \u001b[0mself\u001b[0m\u001b[1;33m.\u001b[0m\u001b[0m_stateful_fn\u001b[0m \u001b[1;32mis\u001b[0m \u001b[1;32mnot\u001b[0m \u001b[1;32mNone\u001b[0m\u001b[1;33m:\u001b[0m\u001b[1;33m\u001b[0m\u001b[1;33m\u001b[0m\u001b[0m\n\u001b[0;32m    949\u001b[0m       \u001b[1;31m# Release the lock early so that multiple threads can perform the call\u001b[0m\u001b[1;33m\u001b[0m\u001b[1;33m\u001b[0m\u001b[1;33m\u001b[0m\u001b[0m\n",
      "\u001b[1;32m~\\anaconda3\\lib\\site-packages\\tensorflow\\python\\eager\\function.py\u001b[0m in \u001b[0;36m__call__\u001b[1;34m(self, *args, **kwargs)\u001b[0m\n\u001b[0;32m   2451\u001b[0m       (graph_function,\n\u001b[0;32m   2452\u001b[0m        filtered_flat_args) = self._maybe_define_function(args, kwargs)\n\u001b[1;32m-> 2453\u001b[1;33m     return graph_function._call_flat(\n\u001b[0m\u001b[0;32m   2454\u001b[0m         filtered_flat_args, captured_inputs=graph_function.captured_inputs)  # pylint: disable=protected-access\n\u001b[0;32m   2455\u001b[0m \u001b[1;33m\u001b[0m\u001b[0m\n",
      "\u001b[1;32m~\\anaconda3\\lib\\site-packages\\tensorflow\\python\\eager\\function.py\u001b[0m in \u001b[0;36m_call_flat\u001b[1;34m(self, args, captured_inputs, cancellation_manager)\u001b[0m\n\u001b[0;32m   1858\u001b[0m         and executing_eagerly):\n\u001b[0;32m   1859\u001b[0m       \u001b[1;31m# No tape is watching; skip to running the function.\u001b[0m\u001b[1;33m\u001b[0m\u001b[1;33m\u001b[0m\u001b[1;33m\u001b[0m\u001b[0m\n\u001b[1;32m-> 1860\u001b[1;33m       return self._build_call_outputs(self._inference_function.call(\n\u001b[0m\u001b[0;32m   1861\u001b[0m           ctx, args, cancellation_manager=cancellation_manager))\n\u001b[0;32m   1862\u001b[0m     forward_backward = self._select_forward_and_backward_functions(\n",
      "\u001b[1;32m~\\anaconda3\\lib\\site-packages\\tensorflow\\python\\eager\\function.py\u001b[0m in \u001b[0;36mcall\u001b[1;34m(self, ctx, args, cancellation_manager)\u001b[0m\n\u001b[0;32m    495\u001b[0m       \u001b[1;32mwith\u001b[0m \u001b[0m_InterpolateFunctionError\u001b[0m\u001b[1;33m(\u001b[0m\u001b[0mself\u001b[0m\u001b[1;33m)\u001b[0m\u001b[1;33m:\u001b[0m\u001b[1;33m\u001b[0m\u001b[1;33m\u001b[0m\u001b[0m\n\u001b[0;32m    496\u001b[0m         \u001b[1;32mif\u001b[0m \u001b[0mcancellation_manager\u001b[0m \u001b[1;32mis\u001b[0m \u001b[1;32mNone\u001b[0m\u001b[1;33m:\u001b[0m\u001b[1;33m\u001b[0m\u001b[1;33m\u001b[0m\u001b[0m\n\u001b[1;32m--> 497\u001b[1;33m           outputs = execute.execute(\n\u001b[0m\u001b[0;32m    498\u001b[0m               \u001b[0mstr\u001b[0m\u001b[1;33m(\u001b[0m\u001b[0mself\u001b[0m\u001b[1;33m.\u001b[0m\u001b[0msignature\u001b[0m\u001b[1;33m.\u001b[0m\u001b[0mname\u001b[0m\u001b[1;33m)\u001b[0m\u001b[1;33m,\u001b[0m\u001b[1;33m\u001b[0m\u001b[1;33m\u001b[0m\u001b[0m\n\u001b[0;32m    499\u001b[0m               \u001b[0mnum_outputs\u001b[0m\u001b[1;33m=\u001b[0m\u001b[0mself\u001b[0m\u001b[1;33m.\u001b[0m\u001b[0m_num_outputs\u001b[0m\u001b[1;33m,\u001b[0m\u001b[1;33m\u001b[0m\u001b[1;33m\u001b[0m\u001b[0m\n",
      "\u001b[1;32m~\\anaconda3\\lib\\site-packages\\tensorflow\\python\\eager\\execute.py\u001b[0m in \u001b[0;36mquick_execute\u001b[1;34m(op_name, num_outputs, inputs, attrs, ctx, name)\u001b[0m\n\u001b[0;32m     52\u001b[0m   \u001b[1;32mtry\u001b[0m\u001b[1;33m:\u001b[0m\u001b[1;33m\u001b[0m\u001b[1;33m\u001b[0m\u001b[0m\n\u001b[0;32m     53\u001b[0m     \u001b[0mctx\u001b[0m\u001b[1;33m.\u001b[0m\u001b[0mensure_initialized\u001b[0m\u001b[1;33m(\u001b[0m\u001b[1;33m)\u001b[0m\u001b[1;33m\u001b[0m\u001b[1;33m\u001b[0m\u001b[0m\n\u001b[1;32m---> 54\u001b[1;33m     tensors = pywrap_tfe.TFE_Py_Execute(ctx._handle, device_name, op_name,\n\u001b[0m\u001b[0;32m     55\u001b[0m                                         inputs, attrs, num_outputs)\n\u001b[0;32m     56\u001b[0m   \u001b[1;32mexcept\u001b[0m \u001b[0mcore\u001b[0m\u001b[1;33m.\u001b[0m\u001b[0m_NotOkStatusException\u001b[0m \u001b[1;32mas\u001b[0m \u001b[0me\u001b[0m\u001b[1;33m:\u001b[0m\u001b[1;33m\u001b[0m\u001b[1;33m\u001b[0m\u001b[0m\n",
      "\u001b[1;31mKeyboardInterrupt\u001b[0m: "
     ]
    }
   ],
   "source": [
    "if os.path.exists('./logs'):\n",
    "    shutil.rmtree('./logs')\n",
    "    \n",
    "checkpoint = ModelCheckpoint(check_point_model,\n",
    "                            monitor='val_loss',\n",
    "                            verbose=1,\n",
    "                            save_best_only=True,\n",
    "                            mode='min')\n",
    "\n",
    "history = model.fit(training_data, training_labels,\n",
    "                    epochs=100,\n",
    "                    batch_size=16,\n",
    "                    validation_data=(validation_data, validation_labels),\n",
    "                    callbacks=[checkpoint, TensorBoard(f'./logs/gender_model')])"
   ]
  },
  {
   "cell_type": "markdown",
   "id": "41abb430-ad0b-48c8-a890-1b6f2e10144d",
   "metadata": {},
   "source": [
    "## Save/load model"
   ]
  },
  {
   "cell_type": "code",
   "execution_count": 28,
   "id": "94507a57-183e-4942-8e49-f84163b03124",
   "metadata": {},
   "outputs": [],
   "source": [
    "model.save('gender_classifier.h5')"
   ]
  },
  {
   "cell_type": "code",
   "execution_count": 42,
   "id": "0a5740c0-cdb0-4c2c-96b0-9a1ef0e1b72a",
   "metadata": {},
   "outputs": [],
   "source": [
    "model.load_weights(os.path.join('./checkpoints','checkpoint_gender_model.hdf5'))"
   ]
  },
  {
   "cell_type": "code",
   "execution_count": 48,
   "id": "0e30b68d-27f2-4d5a-86a1-939cf386c525",
   "metadata": {},
   "outputs": [],
   "source": [
    "classifier = keras.models.load_model('gender_classifier.h5')"
   ]
  },
  {
   "cell_type": "markdown",
   "id": "1797b62c-5de3-4f34-955d-41f29102b13b",
   "metadata": {},
   "source": [
    "## Evaluate Classifier"
   ]
  },
  {
   "cell_type": "code",
   "execution_count": 51,
   "id": "52aeb65c-42a0-417f-a0b6-c232a5144f67",
   "metadata": {},
   "outputs": [
    {
     "name": "stdout",
     "output_type": "stream",
     "text": [
      "6/6 - 0s - loss: 0.2285 - accuracy: 0.9368 - 486ms/epoch - 81ms/step\n"
     ]
    }
   ],
   "source": [
    "test_loss, test_acc = classifier.evaluate(validation_data,  validation_labels, verbose=2)"
   ]
  },
  {
   "cell_type": "code",
   "execution_count": 66,
   "id": "03888771-9fb0-4e0e-a78b-85eab7c872d0",
   "metadata": {
    "collapsed": true,
    "jupyter": {
     "outputs_hidden": true
    },
    "tags": []
   },
   "outputs": [
    {
     "name": "stdout",
     "output_type": "stream",
     "text": [
      "1/1 [==============================] - 0s 22ms/step\n",
      "1/1 [==============================] - 0s 19ms/step\n",
      "1/1 [==============================] - 0s 19ms/step\n",
      "1/1 [==============================] - 0s 18ms/step\n",
      "1/1 [==============================] - 0s 18ms/step\n",
      "1/1 [==============================] - 0s 19ms/step\n",
      "1/1 [==============================] - 0s 18ms/step\n",
      "1/1 [==============================] - 0s 19ms/step\n",
      "1/1 [==============================] - 0s 17ms/step\n",
      "1/1 [==============================] - 0s 17ms/step\n",
      "1/1 [==============================] - 0s 19ms/step\n",
      "1/1 [==============================] - 0s 18ms/step\n",
      "1/1 [==============================] - 0s 18ms/step\n",
      "1/1 [==============================] - 0s 18ms/step\n",
      "1/1 [==============================] - 0s 19ms/step\n",
      "1/1 [==============================] - 0s 17ms/step\n",
      "1/1 [==============================] - 0s 18ms/step\n",
      "1/1 [==============================] - 0s 18ms/step\n",
      "1/1 [==============================] - 0s 18ms/step\n",
      "1/1 [==============================] - 0s 19ms/step\n",
      "1/1 [==============================] - 0s 19ms/step\n",
      "1/1 [==============================] - 0s 21ms/step\n",
      "1/1 [==============================] - 0s 17ms/step\n",
      "1/1 [==============================] - 0s 18ms/step\n",
      "1/1 [==============================] - 0s 20ms/step\n",
      "1/1 [==============================] - 0s 18ms/step\n",
      "1/1 [==============================] - 0s 17ms/step\n",
      "1/1 [==============================] - 0s 21ms/step\n",
      "1/1 [==============================] - 0s 19ms/step\n",
      "1/1 [==============================] - 0s 17ms/step\n",
      "1/1 [==============================] - 0s 19ms/step\n",
      "1/1 [==============================] - 0s 18ms/step\n",
      "1/1 [==============================] - 0s 19ms/step\n",
      "1/1 [==============================] - 0s 20ms/step\n",
      "1/1 [==============================] - 0s 19ms/step\n",
      "1/1 [==============================] - 0s 18ms/step\n",
      "1/1 [==============================] - 0s 18ms/step\n",
      "1/1 [==============================] - 0s 18ms/step\n",
      "1/1 [==============================] - 0s 18ms/step\n",
      "1/1 [==============================] - 0s 20ms/step\n",
      "1/1 [==============================] - 0s 19ms/step\n",
      "1/1 [==============================] - 0s 18ms/step\n",
      "1/1 [==============================] - 0s 18ms/step\n",
      "1/1 [==============================] - 0s 18ms/step\n",
      "1/1 [==============================] - 0s 18ms/step\n",
      "1/1 [==============================] - 0s 18ms/step\n",
      "1/1 [==============================] - 0s 22ms/step\n",
      "1/1 [==============================] - 0s 22ms/step\n",
      "1/1 [==============================] - 0s 20ms/step\n",
      "1/1 [==============================] - 0s 19ms/step\n",
      "1/1 [==============================] - 0s 20ms/step\n",
      "1/1 [==============================] - 0s 21ms/step\n",
      "1/1 [==============================] - 0s 17ms/step\n",
      "1/1 [==============================] - 0s 20ms/step\n",
      "1/1 [==============================] - 0s 18ms/step\n",
      "1/1 [==============================] - 0s 18ms/step\n",
      "1/1 [==============================] - 0s 19ms/step\n",
      "1/1 [==============================] - 0s 18ms/step\n",
      "1/1 [==============================] - 0s 17ms/step\n",
      "1/1 [==============================] - 0s 19ms/step\n",
      "1/1 [==============================] - 0s 18ms/step\n",
      "1/1 [==============================] - 0s 19ms/step\n",
      "1/1 [==============================] - 0s 17ms/step\n",
      "1/1 [==============================] - 0s 18ms/step\n",
      "1/1 [==============================] - 0s 18ms/step\n",
      "1/1 [==============================] - 0s 17ms/step\n",
      "1/1 [==============================] - 0s 20ms/step\n",
      "1/1 [==============================] - 0s 17ms/step\n",
      "1/1 [==============================] - 0s 20ms/step\n",
      "1/1 [==============================] - 0s 19ms/step\n",
      "1/1 [==============================] - 0s 20ms/step\n",
      "1/1 [==============================] - 0s 21ms/step\n",
      "1/1 [==============================] - 0s 21ms/step\n",
      "1/1 [==============================] - 0s 19ms/step\n",
      "1/1 [==============================] - 0s 19ms/step\n",
      "1/1 [==============================] - 0s 18ms/step\n",
      "1/1 [==============================] - 0s 20ms/step\n",
      "1/1 [==============================] - 0s 21ms/step\n",
      "1/1 [==============================] - 0s 19ms/step\n",
      "1/1 [==============================] - 0s 21ms/step\n",
      "1/1 [==============================] - 0s 20ms/step\n",
      "1/1 [==============================] - 0s 19ms/step\n",
      "1/1 [==============================] - 0s 19ms/step\n",
      "1/1 [==============================] - 0s 18ms/step\n",
      "1/1 [==============================] - 0s 20ms/step\n",
      "1/1 [==============================] - 0s 18ms/step\n",
      "1/1 [==============================] - 0s 20ms/step\n",
      "1/1 [==============================] - 0s 18ms/step\n",
      "1/1 [==============================] - 0s 18ms/step\n",
      "1/1 [==============================] - 0s 19ms/step\n",
      "1/1 [==============================] - 0s 19ms/step\n",
      "1/1 [==============================] - 0s 18ms/step\n",
      "1/1 [==============================] - 0s 20ms/step\n",
      "1/1 [==============================] - 0s 19ms/step\n",
      "1/1 [==============================] - 0s 20ms/step\n",
      "1/1 [==============================] - 0s 19ms/step\n",
      "1/1 [==============================] - 0s 19ms/step\n",
      "1/1 [==============================] - 0s 20ms/step\n",
      "1/1 [==============================] - 0s 18ms/step\n",
      "1/1 [==============================] - 0s 18ms/step\n",
      "1/1 [==============================] - 0s 18ms/step\n",
      "1/1 [==============================] - 0s 22ms/step\n",
      "1/1 [==============================] - 0s 23ms/step\n",
      "1/1 [==============================] - 0s 18ms/step\n",
      "1/1 [==============================] - 0s 19ms/step\n",
      "1/1 [==============================] - 0s 18ms/step\n",
      "1/1 [==============================] - 0s 19ms/step\n",
      "1/1 [==============================] - 0s 19ms/step\n",
      "1/1 [==============================] - 0s 18ms/step\n",
      "1/1 [==============================] - 0s 18ms/step\n",
      "1/1 [==============================] - 0s 18ms/step\n",
      "1/1 [==============================] - 0s 19ms/step\n",
      "1/1 [==============================] - 0s 18ms/step\n",
      "1/1 [==============================] - 0s 18ms/step\n",
      "1/1 [==============================] - 0s 19ms/step\n",
      "1/1 [==============================] - 0s 17ms/step\n",
      "1/1 [==============================] - 0s 18ms/step\n",
      "1/1 [==============================] - 0s 21ms/step\n",
      "1/1 [==============================] - 0s 19ms/step\n",
      "1/1 [==============================] - 0s 18ms/step\n",
      "1/1 [==============================] - 0s 18ms/step\n",
      "1/1 [==============================] - 0s 18ms/step\n",
      "1/1 [==============================] - 0s 17ms/step\n",
      "1/1 [==============================] - 0s 18ms/step\n",
      "1/1 [==============================] - 0s 17ms/step\n",
      "1/1 [==============================] - 0s 18ms/step\n",
      "1/1 [==============================] - 0s 18ms/step\n",
      "1/1 [==============================] - 0s 19ms/step\n",
      "1/1 [==============================] - 0s 20ms/step\n",
      "1/1 [==============================] - 0s 19ms/step\n",
      "1/1 [==============================] - 0s 19ms/step\n",
      "1/1 [==============================] - 0s 19ms/step\n",
      "1/1 [==============================] - 0s 19ms/step\n",
      "1/1 [==============================] - 0s 19ms/step\n",
      "1/1 [==============================] - 0s 17ms/step\n",
      "1/1 [==============================] - 0s 19ms/step\n",
      "1/1 [==============================] - 0s 19ms/step\n",
      "1/1 [==============================] - 0s 18ms/step\n",
      "1/1 [==============================] - 0s 18ms/step\n",
      "1/1 [==============================] - 0s 19ms/step\n",
      "1/1 [==============================] - 0s 18ms/step\n",
      "1/1 [==============================] - 0s 18ms/step\n",
      "1/1 [==============================] - 0s 19ms/step\n",
      "1/1 [==============================] - 0s 18ms/step\n",
      "1/1 [==============================] - 0s 17ms/step\n",
      "1/1 [==============================] - 0s 20ms/step\n",
      "1/1 [==============================] - 0s 23ms/step\n",
      "1/1 [==============================] - 0s 18ms/step\n",
      "1/1 [==============================] - 0s 18ms/step\n",
      "1/1 [==============================] - 0s 19ms/step\n",
      "1/1 [==============================] - 0s 18ms/step\n",
      "1/1 [==============================] - 0s 18ms/step\n",
      "1/1 [==============================] - 0s 17ms/step\n",
      "1/1 [==============================] - 0s 18ms/step\n",
      "1/1 [==============================] - 0s 19ms/step\n",
      "1/1 [==============================] - 0s 19ms/step\n",
      "1/1 [==============================] - 0s 18ms/step\n",
      "1/1 [==============================] - 0s 18ms/step\n",
      "1/1 [==============================] - 0s 17ms/step\n",
      "1/1 [==============================] - 0s 17ms/step\n",
      "1/1 [==============================] - 0s 18ms/step\n",
      "1/1 [==============================] - 0s 19ms/step\n",
      "1/1 [==============================] - 0s 17ms/step\n",
      "1/1 [==============================] - 0s 18ms/step\n",
      "1/1 [==============================] - 0s 17ms/step\n",
      "1/1 [==============================] - 0s 17ms/step\n",
      "1/1 [==============================] - 0s 18ms/step\n",
      "1/1 [==============================] - 0s 18ms/step\n",
      "1/1 [==============================] - 0s 19ms/step\n",
      "1/1 [==============================] - 0s 18ms/step\n",
      "1/1 [==============================] - 0s 18ms/step\n",
      "1/1 [==============================] - 0s 20ms/step\n",
      "1/1 [==============================] - 0s 19ms/step\n",
      "1/1 [==============================] - 0s 19ms/step\n",
      "174 163\n"
     ]
    }
   ],
   "source": [
    "aciertos = 0\n",
    "\n",
    "for i in range(len(validation_data)):\n",
    "    score = classifier.predict(np.asarray([validation_data[i]]))[0]\n",
    "    if (score[0]>=score[1] and validation_labels[i][0] > validation_labels[i][1]) or \\\n",
    "       (score[0]<score[1] and validation_labels[i][0] < validation_labels[i][1]):\n",
    "        aciertos += 1"
   ]
  },
  {
   "cell_type": "code",
   "execution_count": 69,
   "id": "1459d97f-ed25-4124-ab7b-089e7d0e5c40",
   "metadata": {},
   "outputs": [
    {
     "name": "stdout",
     "output_type": "stream",
     "text": [
      "174 163\n",
      "Accuracy: 93.67816091954023%\n"
     ]
    }
   ],
   "source": [
    "print(len(validation_data), aciertos)\n",
    "print(f\"Accuracy: {(aciertos*100)/len(validation_data)}%\")"
   ]
  },
  {
   "cell_type": "code",
   "execution_count": 52,
   "id": "c294bd2a-7be3-4223-b1e6-3c36ab767a7a",
   "metadata": {},
   "outputs": [
    {
     "name": "stdout",
     "output_type": "stream",
     "text": [
      "Accuracy: 93.67815852165222%\n"
     ]
    }
   ],
   "source": [
    "print(f'Accuracy: {test_acc*100}%')"
   ]
  }
 ],
 "metadata": {
  "kernelspec": {
   "display_name": "Python 3",
   "language": "python",
   "name": "python3"
  },
  "language_info": {
   "codemirror_mode": {
    "name": "ipython",
    "version": 3
   },
   "file_extension": ".py",
   "mimetype": "text/x-python",
   "name": "python",
   "nbconvert_exporter": "python",
   "pygments_lexer": "ipython3",
   "version": "3.8.8"
  }
 },
 "nbformat": 4,
 "nbformat_minor": 5
}
